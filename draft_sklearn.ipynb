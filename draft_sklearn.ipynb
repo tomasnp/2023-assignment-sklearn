{
 "cells": [
  {
   "cell_type": "code",
   "execution_count": 9,
   "metadata": {},
   "outputs": [],
   "source": [
    "import numpy as np\n",
    "import pandas as pd\n",
    "\n",
    "from sklearn.base import BaseEstimator\n",
    "from sklearn.base import ClassifierMixin\n",
    "\n",
    "from sklearn.model_selection import BaseCrossValidator\n",
    "\n",
    "from sklearn.utils.validation import check_X_y, check_is_fitted\n",
    "from sklearn.utils.validation import check_array\n",
    "from sklearn.utils.multiclass import check_classification_targets\n",
    "from sklearn.metrics.pairwise import pairwise_distances"
   ]
  },
  {
   "cell_type": "code",
   "execution_count": 32,
   "metadata": {},
   "outputs": [],
   "source": [
    "from sklearn.datasets import make_blobs\n",
    "\n",
    "\n",
    "\n",
    "X, y = make_blobs(n_samples=20, n_features=2, random_state=0,  )"
   ]
  },
  {
   "cell_type": "code",
   "execution_count": 33,
   "metadata": {},
   "outputs": [],
   "source": [
    "from sklearn.model_selection import train_test_split\n",
    "\n",
    "X_train, X_test, y_train, y_test = train_test_split(X, y, random_state=0)"
   ]
  },
  {
   "cell_type": "code",
   "execution_count": 35,
   "metadata": {},
   "outputs": [
    {
     "data": {
      "text/plain": [
       "(array([[-1.87481616,  3.07423123],\n",
       "        [-3.2331742 ,  4.86865766],\n",
       "        [ 2.10102604,  0.71047981],\n",
       "        [ 4.32502215, -0.55670201],\n",
       "        [ 1.28933778,  3.44969159],\n",
       "        [-2.57545698,  1.49786432],\n",
       "        [ 1.7373078 ,  4.42546234],\n",
       "        [ 1.9263585 ,  4.15243012],\n",
       "        [ 1.16748177, -1.08313281],\n",
       "        [-0.29661333,  4.12026211],\n",
       "        [ 2.47034915,  4.09862906],\n",
       "        [ 2.21021495,  1.27582618],\n",
       "        [ 1.12031365,  5.75806083],\n",
       "        [-2.03655619,  2.47980796],\n",
       "        [-0.49772229,  1.55128226]]),\n",
       " array([2, 2, 1, 1, 0, 2, 0, 0, 1, 2, 0, 1, 0, 2, 1]))"
      ]
     },
     "execution_count": 35,
     "metadata": {},
     "output_type": "execute_result"
    }
   ],
   "source": [
    "X_train, y_train"
   ]
  },
  {
   "cell_type": "code",
   "execution_count": 28,
   "metadata": {},
   "outputs": [
    {
     "data": {
      "text/plain": [
       "array([[ 2.36833522,  0.04356792],\n",
       "       [ 2.49913075,  1.23133799],\n",
       "       [-0.66246781,  2.17571724]])"
      ]
     },
     "execution_count": 28,
     "metadata": {},
     "output_type": "execute_result"
    }
   ],
   "source": [
    "X_test"
   ]
  },
  {
   "cell_type": "code",
   "execution_count": 42,
   "metadata": {},
   "outputs": [
    {
     "data": {
      "text/plain": [
       "<matplotlib.collections.PathCollection at 0x7fa808de9490>"
      ]
     },
     "execution_count": 42,
     "metadata": {},
     "output_type": "execute_result"
    },
    {
     "data": {
      "image/png": "[encoded data removed]",
      "text/plain": [
       "<Figure size 640x480 with 1 Axes>"
      ]
     },
     "metadata": {},
     "output_type": "display_data"
    }
   ],
   "source": [
    "## plot the training set\n",
    "import matplotlib.pyplot as plt\n",
    "plt.scatter(X_train[:, 0], X_train[:, 1], c=y_train, cmap='rainbow')\n",
    "# croix noir pour les points de test\n",
    "\n",
    "plt.scatter(X_test[:, 0], X_test[:, 1], c='k', marker='x')"
   ]
  },
  {
   "cell_type": "code",
   "execution_count": null,
   "metadata": {},
   "outputs": [],
   "source": []
  },
  {
   "cell_type": "code",
   "execution_count": null,
   "metadata": {},
   "outputs": [],
   "source": []
  }
 ],
 "metadata": {
  "kernelspec": {
   "display_name": "Python 3",
   "language": "python",
   "name": "python3"
  },
  "language_info": {
   "codemirror_mode": {
    "name": "ipython",
    "version": 3
   },
   "file_extension": ".py",
   "mimetype": "text/x-python",
   "name": "python",
   "nbconvert_exporter": "python",
   "pygments_lexer": "ipython3",
   "version": "3.8.5"
  }
 },
 "nbformat": 4,
 "nbformat_minor": 2
}
